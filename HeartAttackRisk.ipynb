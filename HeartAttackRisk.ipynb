{
 "cells": [
  {
   "cell_type": "code",
   "execution_count": 1,
   "id": "7993bd3a",
   "metadata": {},
   "outputs": [
    {
     "name": "stderr",
     "output_type": "stream",
     "text": [
      "C:\\Users\\Alfin\\anaconda3\\Lib\\site-packages\\xgboost\\core.py:158: UserWarning: [13:13:38] WARNING: C:\\buildkite-agent\\builds\\buildkite-windows-cpu-autoscaling-group-i-08cbc0333d8d4aae1-1\\xgboost\\xgboost-ci-windows\\src\\learner.cc:740: \n",
      "Parameters: { \"use_label_encoder\" } are not used.\n",
      "\n",
      "  warnings.warn(smsg, UserWarning)\n"
     ]
    },
    {
     "name": "stdout",
     "output_type": "stream",
     "text": [
      "📌 Logistic Regression:\n",
      "              precision    recall  f1-score   support\n",
      "\n",
      "           0       0.93      0.96      0.94       288\n",
      "           1       0.69      0.48      0.56        23\n",
      "           2       0.50      1.00      0.67         1\n",
      "           3       1.00      0.91      0.95        11\n",
      "           4       1.00      0.25      0.40         8\n",
      "           5       0.00      0.00      0.00         2\n",
      "           6       0.00      0.00      0.00         3\n",
      "           7       0.12      0.25      0.17         4\n",
      "\n",
      "    accuracy                           0.89       340\n",
      "   macro avg       0.53      0.48      0.46       340\n",
      "weighted avg       0.89      0.89      0.88       340\n",
      "\n",
      "📌 Random Forest:\n",
      "              precision    recall  f1-score   support\n",
      "\n",
      "           0       0.91      1.00      0.95       288\n",
      "           1       0.92      0.48      0.63        23\n",
      "           2       0.00      0.00      0.00         1\n",
      "           3       1.00      1.00      1.00        11\n",
      "           4       0.00      0.00      0.00         8\n",
      "           5       0.00      0.00      0.00         2\n",
      "           6       0.00      0.00      0.00         3\n",
      "           7       0.00      0.00      0.00         4\n",
      "\n",
      "    accuracy                           0.91       340\n",
      "   macro avg       0.35      0.31      0.32       340\n",
      "weighted avg       0.86      0.91      0.88       340\n",
      "\n",
      "📌 XGBoost:\n",
      "              precision    recall  f1-score   support\n",
      "\n",
      "           0       0.92      1.00      0.96       288\n",
      "           1       0.92      0.48      0.63        23\n",
      "           2       0.50      1.00      0.67         1\n",
      "           3       1.00      1.00      1.00        11\n",
      "           4       1.00      0.12      0.22         8\n",
      "           5       0.00      0.00      0.00         2\n",
      "           6       0.00      0.00      0.00         3\n",
      "           7       0.00      0.00      0.00         4\n",
      "\n",
      "    accuracy                           0.91       340\n",
      "   macro avg       0.54      0.45      0.43       340\n",
      "weighted avg       0.90      0.91      0.89       340\n",
      "\n"
     ]
    },
    {
     "name": "stderr",
     "output_type": "stream",
     "text": [
      "C:\\Users\\Alfin\\anaconda3\\Lib\\site-packages\\sklearn\\metrics\\_classification.py:1531: UndefinedMetricWarning: Precision is ill-defined and being set to 0.0 in labels with no predicted samples. Use `zero_division` parameter to control this behavior.\n",
      "  _warn_prf(average, modifier, f\"{metric.capitalize()} is\", len(result))\n",
      "C:\\Users\\Alfin\\anaconda3\\Lib\\site-packages\\sklearn\\metrics\\_classification.py:1531: UndefinedMetricWarning: Precision is ill-defined and being set to 0.0 in labels with no predicted samples. Use `zero_division` parameter to control this behavior.\n",
      "  _warn_prf(average, modifier, f\"{metric.capitalize()} is\", len(result))\n",
      "C:\\Users\\Alfin\\anaconda3\\Lib\\site-packages\\sklearn\\metrics\\_classification.py:1531: UndefinedMetricWarning: Precision is ill-defined and being set to 0.0 in labels with no predicted samples. Use `zero_division` parameter to control this behavior.\n",
      "  _warn_prf(average, modifier, f\"{metric.capitalize()} is\", len(result))\n",
      "C:\\Users\\Alfin\\anaconda3\\Lib\\site-packages\\sklearn\\metrics\\_classification.py:1531: UndefinedMetricWarning: Precision is ill-defined and being set to 0.0 in labels with no predicted samples. Use `zero_division` parameter to control this behavior.\n",
      "  _warn_prf(average, modifier, f\"{metric.capitalize()} is\", len(result))\n",
      "C:\\Users\\Alfin\\anaconda3\\Lib\\site-packages\\sklearn\\metrics\\_classification.py:1531: UndefinedMetricWarning: Precision is ill-defined and being set to 0.0 in labels with no predicted samples. Use `zero_division` parameter to control this behavior.\n",
      "  _warn_prf(average, modifier, f\"{metric.capitalize()} is\", len(result))\n",
      "C:\\Users\\Alfin\\anaconda3\\Lib\\site-packages\\sklearn\\metrics\\_classification.py:1531: UndefinedMetricWarning: Precision is ill-defined and being set to 0.0 in labels with no predicted samples. Use `zero_division` parameter to control this behavior.\n",
      "  _warn_prf(average, modifier, f\"{metric.capitalize()} is\", len(result))\n"
     ]
    }
   ],
   "source": [
    "import pandas as pd\n",
    "import numpy as np\n",
    "from sklearn.model_selection import train_test_split\n",
    "from sklearn.preprocessing import StandardScaler\n",
    "from sklearn.ensemble import RandomForestClassifier\n",
    "from sklearn.linear_model import LogisticRegression\n",
    "from xgboost import XGBClassifier\n",
    "from sklearn.metrics import accuracy_score, classification_report\n",
    "\n",
    "file_path = r\"C:\\Users\\Alfin\\Downloads\\archive (3)\\Myocardial infarction complications Database.csv\"\n",
    "df = pd.read_csv(file_path)\n",
    "\n",
    "\n",
    "# 📌 Step 1: Handle Missing Data (Fill NaN with Median)\n",
    "df.fillna(df.median(), inplace=True)\n",
    "\n",
    "# 📌 Step 2: Define Features & Target Variable\n",
    "target = \"LET_IS\"  # Mortality (Change this to \"REC_IM\" for recurrent MI)\n",
    "X = df.drop(columns=[\"ID\", target])  # Remove ID & Target from features\n",
    "y = df[target]  # Target variable (0 = No MI, 1 = MI)\n",
    "\n",
    "# 📌 Step 3: Split Data into Train & Test Sets\n",
    "X_train, X_test, y_train, y_test = train_test_split(X, y, test_size=0.2, random_state=42)\n",
    "\n",
    "# 📌 Step 4: Normalize Data (Scaling)\n",
    "scaler = StandardScaler()\n",
    "X_train = scaler.fit_transform(X_train)\n",
    "X_test = scaler.transform(X_test)\n",
    "\n",
    "# 📌 Step 5: Train Machine Learning Models\n",
    "\n",
    "# Logistic Regression\n",
    "log_reg = LogisticRegression()\n",
    "log_reg.fit(X_train, y_train)\n",
    "log_reg_pred = log_reg.predict(X_test)\n",
    "\n",
    "# Random Forest\n",
    "rf = RandomForestClassifier(n_estimators=100, random_state=42)\n",
    "rf.fit(X_train, y_train)\n",
    "rf_pred = rf.predict(X_test)\n",
    "\n",
    "# XGBoost\n",
    "xgb = XGBClassifier(use_label_encoder=False, eval_metric=\"logloss\")\n",
    "xgb.fit(X_train, y_train)\n",
    "xgb_pred = xgb.predict(X_test)\n",
    "\n",
    "# 📌 Step 6: Evaluate Models\n",
    "print(\"📌 Logistic Regression:\")\n",
    "print(classification_report(y_test, log_reg_pred))\n",
    "\n",
    "print(\"📌 Random Forest:\")\n",
    "print(classification_report(y_test, rf_pred))\n",
    "\n",
    "print(\"📌 XGBoost:\")\n",
    "print(classification_report(y_test, xgb_pred))"
   ]
  },
  {
   "cell_type": "code",
   "execution_count": 2,
   "id": "14f9dea4",
   "metadata": {},
   "outputs": [
    {
     "name": "stderr",
     "output_type": "stream",
     "text": [
      "C:\\Users\\Alfin\\anaconda3\\Lib\\site-packages\\sklearn\\feature_selection\\_univariate_selection.py:113: RuntimeWarning: divide by zero encountered in divide\n",
      "  f = msb / msw\n",
      "C:\\Users\\Alfin\\anaconda3\\Lib\\site-packages\\xgboost\\core.py:158: UserWarning: [13:13:46] WARNING: C:\\buildkite-agent\\builds\\buildkite-windows-cpu-autoscaling-group-i-08cbc0333d8d4aae1-1\\xgboost\\xgboost-ci-windows\\src\\learner.cc:740: \n",
      "Parameters: { \"use_label_encoder\" } are not used.\n",
      "\n",
      "  warnings.warn(smsg, UserWarning)\n"
     ]
    },
    {
     "name": "stdout",
     "output_type": "stream",
     "text": [
      "📌 Logistic Regression:\n",
      "              precision    recall  f1-score   support\n",
      "\n",
      "           0       0.91      0.99      0.95       288\n",
      "           1       0.71      0.43      0.54        23\n",
      "           2       0.00      0.00      0.00         1\n",
      "           3       1.00      1.00      1.00        11\n",
      "           4       1.00      0.12      0.22         8\n",
      "           5       0.00      0.00      0.00         2\n",
      "           6       0.00      0.00      0.00         3\n",
      "           7       0.00      0.00      0.00         4\n",
      "\n",
      "    accuracy                           0.90       340\n",
      "   macro avg       0.45      0.32      0.34       340\n",
      "weighted avg       0.88      0.90      0.88       340\n",
      "\n",
      "📌 Random Forest:\n",
      "              precision    recall  f1-score   support\n",
      "\n",
      "           0       0.91      1.00      0.95       288\n",
      "           1       1.00      0.48      0.65        23\n",
      "           2       0.00      0.00      0.00         1\n",
      "           3       1.00      1.00      1.00        11\n",
      "           4       0.00      0.00      0.00         8\n",
      "           5       0.00      0.00      0.00         2\n",
      "           6       0.00      0.00      0.00         3\n",
      "           7       0.00      0.00      0.00         4\n",
      "\n",
      "    accuracy                           0.91       340\n",
      "   macro avg       0.36      0.31      0.32       340\n",
      "weighted avg       0.87      0.91      0.88       340\n",
      "\n",
      "📌 XGBoost:\n",
      "              precision    recall  f1-score   support\n",
      "\n",
      "           0       0.92      0.99      0.95       288\n",
      "           1       0.75      0.52      0.62        23\n",
      "           2       0.00      0.00      0.00         1\n",
      "           3       1.00      1.00      1.00        11\n",
      "           4       0.00      0.00      0.00         8\n",
      "           5       0.00      0.00      0.00         2\n",
      "           6       0.00      0.00      0.00         3\n",
      "           7       0.00      0.00      0.00         4\n",
      "\n",
      "    accuracy                           0.91       340\n",
      "   macro avg       0.33      0.31      0.32       340\n",
      "weighted avg       0.86      0.91      0.88       340\n",
      "\n"
     ]
    },
    {
     "name": "stderr",
     "output_type": "stream",
     "text": [
      "C:\\Users\\Alfin\\anaconda3\\Lib\\site-packages\\sklearn\\metrics\\_classification.py:1531: UndefinedMetricWarning: Precision is ill-defined and being set to 0.0 in labels with no predicted samples. Use `zero_division` parameter to control this behavior.\n",
      "  _warn_prf(average, modifier, f\"{metric.capitalize()} is\", len(result))\n",
      "C:\\Users\\Alfin\\anaconda3\\Lib\\site-packages\\sklearn\\metrics\\_classification.py:1531: UndefinedMetricWarning: Precision is ill-defined and being set to 0.0 in labels with no predicted samples. Use `zero_division` parameter to control this behavior.\n",
      "  _warn_prf(average, modifier, f\"{metric.capitalize()} is\", len(result))\n",
      "C:\\Users\\Alfin\\anaconda3\\Lib\\site-packages\\sklearn\\metrics\\_classification.py:1531: UndefinedMetricWarning: Precision is ill-defined and being set to 0.0 in labels with no predicted samples. Use `zero_division` parameter to control this behavior.\n",
      "  _warn_prf(average, modifier, f\"{metric.capitalize()} is\", len(result))\n",
      "C:\\Users\\Alfin\\anaconda3\\Lib\\site-packages\\sklearn\\metrics\\_classification.py:1531: UndefinedMetricWarning: Precision is ill-defined and being set to 0.0 in labels with no predicted samples. Use `zero_division` parameter to control this behavior.\n",
      "  _warn_prf(average, modifier, f\"{metric.capitalize()} is\", len(result))\n",
      "C:\\Users\\Alfin\\anaconda3\\Lib\\site-packages\\sklearn\\metrics\\_classification.py:1531: UndefinedMetricWarning: Precision is ill-defined and being set to 0.0 in labels with no predicted samples. Use `zero_division` parameter to control this behavior.\n",
      "  _warn_prf(average, modifier, f\"{metric.capitalize()} is\", len(result))\n",
      "C:\\Users\\Alfin\\anaconda3\\Lib\\site-packages\\sklearn\\metrics\\_classification.py:1531: UndefinedMetricWarning: Precision is ill-defined and being set to 0.0 in labels with no predicted samples. Use `zero_division` parameter to control this behavior.\n",
      "  _warn_prf(average, modifier, f\"{metric.capitalize()} is\", len(result))\n",
      "C:\\Users\\Alfin\\anaconda3\\Lib\\site-packages\\sklearn\\metrics\\_classification.py:1531: UndefinedMetricWarning: Precision is ill-defined and being set to 0.0 in labels with no predicted samples. Use `zero_division` parameter to control this behavior.\n",
      "  _warn_prf(average, modifier, f\"{metric.capitalize()} is\", len(result))\n",
      "C:\\Users\\Alfin\\anaconda3\\Lib\\site-packages\\sklearn\\metrics\\_classification.py:1531: UndefinedMetricWarning: Precision is ill-defined and being set to 0.0 in labels with no predicted samples. Use `zero_division` parameter to control this behavior.\n",
      "  _warn_prf(average, modifier, f\"{metric.capitalize()} is\", len(result))\n",
      "C:\\Users\\Alfin\\anaconda3\\Lib\\site-packages\\sklearn\\metrics\\_classification.py:1531: UndefinedMetricWarning: Precision is ill-defined and being set to 0.0 in labels with no predicted samples. Use `zero_division` parameter to control this behavior.\n",
      "  _warn_prf(average, modifier, f\"{metric.capitalize()} is\", len(result))\n"
     ]
    },
    {
     "data": {
      "image/png": "[encoded data removed]",
      "text/plain": [
       "<Figure size 1200x600 with 1 Axes>"
      ]
     },
     "metadata": {},
     "output_type": "display_data"
    }
   ],
   "source": [
    "# Import necessary libraries\n",
    "import pandas as pd\n",
    "import numpy as np\n",
    "import matplotlib.pyplot as plt\n",
    "import seaborn as sns\n",
    "from sklearn.model_selection import train_test_split\n",
    "from sklearn.preprocessing import StandardScaler\n",
    "from sklearn.ensemble import RandomForestClassifier\n",
    "from sklearn.linear_model import LogisticRegression\n",
    "from xgboost import XGBClassifier\n",
    "from sklearn.metrics import accuracy_score, classification_report\n",
    "from sklearn.feature_selection import SelectKBest, f_classif\n",
    "\n",
    "# 📌 Step 1: Load Dataset\n",
    "file_path = r\"C:\\Users\\Alfin\\Downloads\\archive (3)\\Myocardial infarction complications Database.csv\"  \n",
    "df = pd.read_csv(file_path)\n",
    "\n",
    "# 📌 Step 2: Handle Missing Data\n",
    "df.fillna(df.median(), inplace=True)\n",
    "\n",
    "# 📌 Step 3: Define Features & Target\n",
    "target = \"LET_IS\"  \n",
    "X = df.drop(columns=[\"ID\", target])  \n",
    "y = df[target]  \n",
    "\n",
    "# 📌 Step 4: Feature Selection Using Random Forest Importance\n",
    "rf = RandomForestClassifier(n_estimators=100, random_state=42)\n",
    "rf.fit(X, y)\n",
    "feature_importances = pd.Series(rf.feature_importances_, index=X.columns).sort_values(ascending=False)\n",
    "\n",
    "# Select top 30 features (Change number as needed)\n",
    "top_features = feature_importances[:30].index  \n",
    "X = df[top_features]\n",
    "\n",
    "# 📌 Step 5: Feature Selection Using SelectKBest (Optional)\n",
    "selector = SelectKBest(score_func=f_classif, k=30)  # Select top 30 features\n",
    "X_selected = selector.fit_transform(X, y)\n",
    "selected_feature_names = X.columns[selector.get_support()]\n",
    "\n",
    "# 📌 Step 6: Split Data\n",
    "X_train, X_test, y_train, y_test = train_test_split(X_selected, y, test_size=0.2, random_state=42)\n",
    "\n",
    "# 📌 Step 7: Scale Features\n",
    "scaler = StandardScaler()\n",
    "X_train = scaler.fit_transform(X_train)\n",
    "X_test = scaler.transform(X_test)\n",
    "\n",
    "# 📌 Step 8: Train Machine Learning Models\n",
    "log_reg = LogisticRegression()\n",
    "log_reg.fit(X_train, y_train)\n",
    "log_reg_pred = log_reg.predict(X_test)\n",
    "\n",
    "rf = RandomForestClassifier(n_estimators=100, random_state=42)\n",
    "rf.fit(X_train, y_train)\n",
    "rf_pred = rf.predict(X_test)\n",
    "\n",
    "xgb = XGBClassifier(use_label_encoder=False, eval_metric=\"logloss\")\n",
    "xgb.fit(X_train, y_train)\n",
    "xgb_pred = xgb.predict(X_test)\n",
    "\n",
    "# 📌 Step 9: Evaluate Models\n",
    "print(\"📌 Logistic Regression:\")\n",
    "print(classification_report(y_test, log_reg_pred))\n",
    "\n",
    "print(\"📌 Random Forest:\")\n",
    "print(classification_report(y_test, rf_pred))\n",
    "\n",
    "print(\"📌 XGBoost:\")\n",
    "print(classification_report(y_test, xgb_pred))\n",
    "\n",
    "# 📌 Step 10: Plot Feature Importance\n",
    "plt.figure(figsize=(12,6))\n",
    "sns.barplot(x=feature_importances[:50], y=feature_importances[:50].index)\n",
    "plt.title(\"Top 50 Important Features for Myocardial Infarction Prediction\")\n",
    "plt.xlabel(\"Feature Importance Score\")\n",
    "plt.ylabel(\"Features\")\n",
    "plt.show()\n"
   ]
  },
  {
   "cell_type": "code",
   "execution_count": 3,
   "id": "a58a6063-54ab-4ba2-a7a5-ae27fd545fa3",
   "metadata": {},
   "outputs": [
    {
     "name": "stdout",
     "output_type": "stream",
     "text": [
      "✅ Data preprocessing complete! Moving to model training...\n"
     ]
    }
   ],
   "source": [
    "# Import necessary libraries\n",
    "import pandas as pd\n",
    "import numpy as np\n",
    "from sklearn.model_selection import train_test_split\n",
    "from sklearn.preprocessing import StandardScaler\n",
    "from imblearn.over_sampling import SMOTE\n",
    "\n",
    "# 📌 Step 1: Load Dataset\n",
    "file_path = r\"C:\\Users\\Alfin\\Downloads\\archive (3)\\Myocardial infarction complications Database.csv\"\n",
    "df = pd.read_csv(file_path)\n",
    "\n",
    "# 📌 Step 2: Handle Missing Data\n",
    "df.fillna(df.median(), inplace=True)\n",
    "\n",
    "# 📌 Step 3: Define Features & Target\n",
    "target = \"LET_IS\"  \n",
    "X = df.drop(columns=[\"ID\", target])  \n",
    "y = df[target]  \n",
    "\n",
    "# 📌 Step 4: Balance Data Using SMOTE (Fix Class Imbalance)\n",
    "smote = SMOTE(sampling_strategy='auto', random_state=42)\n",
    "X_resampled, y_resampled = smote.fit_resample(X, y)\n",
    "\n",
    "# 📌 Step 5: Split Data into Training & Testing Sets\n",
    "X_train, X_test, y_train, y_test = train_test_split(X_resampled, y_resampled, test_size=0.2, random_state=42)\n",
    "\n",
    "# 📌 Step 6: Scale Features (Neural Networks Need Normalized Data)\n",
    "scaler = StandardScaler()\n",
    "X_train = scaler.fit_transform(X_train)\n",
    "X_test = scaler.transform(X_test)\n",
    "\n",
    "print(\"✅ Data preprocessing complete! Moving to model training...\")\n"
   ]
  },
  {
   "cell_type": "code",
   "execution_count": 4,
   "id": "746816c3-b7cc-46af-8bdb-3ed0ec11d8db",
   "metadata": {},
   "outputs": [
    {
     "name": "stdout",
     "output_type": "stream",
     "text": [
      "Fitting 5 folds for each of 81 candidates, totalling 405 fits\n",
      "✅ Best Parameters for Random Forest: {'max_depth': 20, 'min_samples_leaf': 1, 'min_samples_split': 2, 'n_estimators': 300}\n",
      "Fitting 5 folds for each of 108 candidates, totalling 540 fits\n"
     ]
    },
    {
     "name": "stderr",
     "output_type": "stream",
     "text": [
      "C:\\Users\\Alfin\\anaconda3\\Lib\\site-packages\\xgboost\\core.py:158: UserWarning: [13:31:48] WARNING: C:\\buildkite-agent\\builds\\buildkite-windows-cpu-autoscaling-group-i-08cbc0333d8d4aae1-1\\xgboost\\xgboost-ci-windows\\src\\learner.cc:740: \n",
      "Parameters: { \"use_label_encoder\" } are not used.\n",
      "\n",
      "  warnings.warn(smsg, UserWarning)\n"
     ]
    },
    {
     "name": "stdout",
     "output_type": "stream",
     "text": [
      "✅ Best Parameters for XGBoost: {'colsample_bytree': 0.8, 'learning_rate': 0.2, 'max_depth': 9, 'n_estimators': 100, 'subsample': 0.8}\n"
     ]
    }
   ],
   "source": [
    "from sklearn.model_selection import GridSearchCV\n",
    "from sklearn.ensemble import RandomForestClassifier\n",
    "from xgboost import XGBClassifier\n",
    "\n",
    "# 📌 Step 1: Define Hyperparameter Grid for Random Forest\n",
    "rf_params = {\n",
    "    'n_estimators': [100, 200, 300],  # Number of trees\n",
    "    'max_depth': [10, 20, None],  # Depth of each tree\n",
    "    'min_samples_split': [2, 5, 10],  # Minimum samples to split\n",
    "    'min_samples_leaf': [1, 2, 4]  # Minimum samples per leaf\n",
    "}\n",
    "\n",
    "# 📌 Step 2: Tune Random Forest using GridSearchCV\n",
    "rf_grid = GridSearchCV(RandomForestClassifier(random_state=42), rf_params, cv=5, n_jobs=-1, verbose=2)\n",
    "rf_grid.fit(X_train, y_train)\n",
    "\n",
    "print(\"✅ Best Parameters for Random Forest:\", rf_grid.best_params_)\n",
    "\n",
    "# 📌 Step 3: Define Hyperparameter Grid for XGBoost\n",
    "xgb_params = {\n",
    "    'n_estimators': [100, 200, 300],\n",
    "    'max_depth': [3, 6, 9],\n",
    "    'learning_rate': [0.01, 0.1, 0.2],\n",
    "    'subsample': [0.8, 1.0],\n",
    "    'colsample_bytree': [0.8, 1.0]\n",
    "}\n",
    "\n",
    "# 📌 Step 4: Tune XGBoost using GridSearchCV\n",
    "xgb_grid = GridSearchCV(XGBClassifier(use_label_encoder=False, eval_metric=\"logloss\"), xgb_params, cv=5, n_jobs=-1, verbose=2)\n",
    "xgb_grid.fit(X_train, y_train)\n",
    "\n",
    "print(\"✅ Best Parameters for XGBoost:\", xgb_grid.best_params_)\n"
   ]
  },
  {
   "cell_type": "code",
   "execution_count": 5,
   "id": "930cd881-f0f1-41d4-9fa7-5e342d850bc3",
   "metadata": {},
   "outputs": [
    {
     "name": "stdout",
     "output_type": "stream",
     "text": [
      "📌 Random Forest (After Tuning):\n",
      "              precision    recall  f1-score   support\n",
      "\n",
      "           0       0.98      1.00      0.99       292\n",
      "           1       1.00      0.99      0.99       279\n",
      "           2       1.00      1.00      1.00       307\n",
      "           3       1.00      1.00      1.00       292\n",
      "           4       1.00      1.00      1.00       275\n",
      "           5       1.00      1.00      1.00       277\n",
      "           6       1.00      0.99      1.00       309\n",
      "           7       1.00      1.00      1.00       256\n",
      "\n",
      "    accuracy                           1.00      2287\n",
      "   macro avg       1.00      1.00      1.00      2287\n",
      "weighted avg       1.00      1.00      1.00      2287\n",
      "\n",
      "📌 XGBoost (After Tuning):\n",
      "              precision    recall  f1-score   support\n",
      "\n",
      "           0       0.97      0.99      0.98       292\n",
      "           1       1.00      1.00      1.00       279\n",
      "           2       1.00      0.99      1.00       307\n",
      "           3       1.00      1.00      1.00       292\n",
      "           4       1.00      0.99      0.99       275\n",
      "           5       1.00      1.00      1.00       277\n",
      "           6       1.00      0.99      0.99       309\n",
      "           7       1.00      1.00      1.00       256\n",
      "\n",
      "    accuracy                           0.99      2287\n",
      "   macro avg       0.99      0.99      0.99      2287\n",
      "weighted avg       0.99      0.99      0.99      2287\n",
      "\n"
     ]
    }
   ],
   "source": [
    "from sklearn.metrics import classification_report\n",
    "\n",
    "# Get Predictions from Best Models\n",
    "rf_best_pred = rf_grid.best_estimator_.predict(X_test)\n",
    "xgb_best_pred = xgb_grid.best_estimator_.predict(X_test)\n",
    "\n",
    "# Print Reports\n",
    "print(\"📌 Random Forest (After Tuning):\")\n",
    "print(classification_report(y_test, rf_best_pred))\n",
    "\n",
    "print(\"📌 XGBoost (After Tuning):\")\n",
    "print(classification_report(y_test, xgb_best_pred))\n"
   ]
  },
  {
   "cell_type": "code",
   "execution_count": null,
   "id": "f12e0dfb-4187-4072-8884-777e2d0684d0",
   "metadata": {},
   "outputs": [],
   "source": [
    "pip install streamlit\n"
   ]
  },
  {
   "cell_type": "code",
   "execution_count": null,
   "id": "9a3d217f-ee87-4a74-b421-e5e83396582f",
   "metadata": {},
   "outputs": [],
   "source": [
    "pip install scikit-learn xgboost tensorflow\n"
   ]
  },
  {
   "cell_type": "code",
   "execution_count": 11,
   "id": "23d6d3b3-2ea6-4abf-b6a0-f4527c6ac7fc",
   "metadata": {},
   "outputs": [
    {
     "name": "stdout",
     "output_type": "stream",
     "text": [
      "✅ Models saved successfully!\n"
     ]
    }
   ],
   "source": [
    "import pickle\n",
    "\n",
    "# Save the ML model (Random Forest/XGBoost)\n",
    "with open(\"best_model.pkl\", \"wb\") as file:\n",
    "    pickle.dump(rf_grid.best_estimator_, file)\n",
    "\n",
    "\n",
    "\n",
    "print(\"✅ Models saved successfully!\")\n"
   ]
  },
  {
   "cell_type": "code",
   "execution_count": 6,
   "id": "ffbf1252-f5f8-4b69-8dc9-56fe8f6b5a90",
   "metadata": {},
   "outputs": [
    {
     "name": "stdout",
     "output_type": "stream",
     "text": [
      "Index(['ID', 'AGE', 'SEX', 'INF_ANAM', 'STENOK_AN', 'FK_STENOK', 'IBS_POST',\n",
      "       'IBS_NASL', 'GB', 'SIM_GIPERT',\n",
      "       ...\n",
      "       'JELUD_TAH', 'FIBR_JELUD', 'A_V_BLOK', 'OTEK_LANC', 'RAZRIV',\n",
      "       'DRESSLER', 'ZSN', 'REC_IM', 'P_IM_STEN', 'LET_IS'],\n",
      "      dtype='object', length=124)\n"
     ]
    }
   ],
   "source": [
    "print(df.columns)\n",
    "\n"
   ]
  },
  {
   "cell_type": "code",
   "execution_count": 7,
   "id": "8d6b7eb5-162c-4fe5-884a-7244b95c60c7",
   "metadata": {},
   "outputs": [],
   "source": [
    "selected_features = [\"AGE\", \"S_AD_KBRIG\", \"D_AD_KBRIG\", \"GB\", \"IBS_NASL\", \"SIM_GIPERT\", \"INF_ANAM\", \"ZSN\"]\n",
    "X = df[selected_features]  # Ensure only selected features are used\n"
   ]
  },
  {
   "cell_type": "code",
   "execution_count": 8,
   "id": "8bcf6daa-65b8-409a-acb2-dad8bf7ccbe3",
   "metadata": {},
   "outputs": [
    {
     "name": "stdout",
     "output_type": "stream",
     "text": [
      "Training Features: 122\n",
      "Testing Features: 122\n"
     ]
    }
   ],
   "source": [
    "print(\"Training Features:\", X_train.shape[1])\n",
    "print(\"Testing Features:\", X_test.shape[1])\n"
   ]
  },
  {
   "cell_type": "code",
   "execution_count": 9,
   "id": "88ae8bac-2de0-4052-9113-96f135e8e5c9",
   "metadata": {},
   "outputs": [
    {
     "name": "stdout",
     "output_type": "stream",
     "text": [
      "X_train shape: (1360, 8)\n",
      "X_test shape: (340, 8)\n"
     ]
    }
   ],
   "source": [
    "X_train, X_test, y_train, y_test = train_test_split(X, y, test_size=0.2, random_state=42)\n",
    "\n",
    "# Print to confirm shape\n",
    "print(\"X_train shape:\", X_train.shape)\n",
    "print(\"X_test shape:\", X_test.shape)\n"
   ]
  },
  {
   "cell_type": "code",
   "execution_count": 10,
   "id": "4836c068-9807-4f17-8cd4-169036318cb3",
   "metadata": {},
   "outputs": [
    {
     "name": "stdout",
     "output_type": "stream",
     "text": [
      "✅ Model retrained successfully with 8 features.\n"
     ]
    }
   ],
   "source": [
    "from sklearn.ensemble import RandomForestClassifier\n",
    "import pickle\n",
    "\n",
    "# Train the model again with 8 features\n",
    "rf = RandomForestClassifier(n_estimators=100, random_state=42)\n",
    "rf.fit(X_train, y_train)\n",
    "\n",
    "# Save the newly trained model\n",
    "with open(\"best_model.pkl\", \"wb\") as file:\n",
    "    pickle.dump(rf, file)\n",
    "\n",
    "print(\"✅ Model retrained successfully with 8 features.\")\n"
   ]
  },
  {
   "cell_type": "code",
   "execution_count": 11,
   "id": "e4b4a784-b36b-42f6-b25d-8e531dc8c90f",
   "metadata": {},
   "outputs": [
    {
     "name": "stdout",
     "output_type": "stream",
     "text": [
      "📌 Model Accuracy: 0.8352941176470589\n",
      "\n",
      "📌 Classification Report:\n",
      "               precision    recall  f1-score   support\n",
      "\n",
      "           0       0.87      0.96      0.91       288\n",
      "           1       0.50      0.30      0.38        23\n",
      "           2       0.00      0.00      0.00         1\n",
      "           3       0.00      0.00      0.00        11\n",
      "           4       0.00      0.00      0.00         8\n",
      "           5       0.00      0.00      0.00         2\n",
      "           6       0.00      0.00      0.00         3\n",
      "           7       0.33      0.25      0.29         4\n",
      "\n",
      "    accuracy                           0.84       340\n",
      "   macro avg       0.21      0.19      0.20       340\n",
      "weighted avg       0.78      0.84      0.80       340\n",
      "\n"
     ]
    }
   ],
   "source": [
    "from sklearn.metrics import classification_report, accuracy_score\n",
    "\n",
    "# Make predictions\n",
    "y_pred = rf.predict(X_test)\n",
    "\n",
    "# Evaluate model\n",
    "print(\"📌 Model Accuracy:\", accuracy_score(y_test, y_pred))\n",
    "print(\"\\n📌 Classification Report:\\n\", classification_report(y_test, y_pred))\n"
   ]
  },
  {
   "cell_type": "code",
   "execution_count": 12,
   "id": "9294cfb4-7629-4871-a494-fdb8a72a1ac4",
   "metadata": {},
   "outputs": [
    {
     "name": "stdout",
     "output_type": "stream",
     "text": [
      "Fitting 5 folds for each of 36 candidates, totalling 180 fits\n",
      "✅ Best Parameters: {'max_depth': 10, 'min_samples_split': 5, 'n_estimators': 100}\n"
     ]
    }
   ],
   "source": [
    "from sklearn.model_selection import GridSearchCV\n",
    "\n",
    "param_grid = {\n",
    "    'n_estimators': [100, 200, 300],\n",
    "    'max_depth': [10, 20, 30, None],\n",
    "    'min_samples_split': [2, 5, 10]\n",
    "}\n",
    "\n",
    "grid_search = GridSearchCV(RandomForestClassifier(random_state=42), param_grid, cv=5, n_jobs=-1, verbose=2)\n",
    "grid_search.fit(X_train, y_train)\n",
    "\n",
    "# Train best model\n",
    "best_rf = grid_search.best_estimator_\n",
    "print(\"✅ Best Parameters:\", grid_search.best_params_)\n",
    "\n",
    "# Save the best model\n",
    "with open(\"best_model.pkl\", \"wb\") as file:\n",
    "    pickle.dump(best_rf, file)\n"
   ]
  },
  {
   "cell_type": "code",
   "execution_count": 13,
   "id": "a619464e-c1a1-4eea-aeb8-06285b9612a9",
   "metadata": {},
   "outputs": [
    {
     "name": "stdout",
     "output_type": "stream",
     "text": [
      "✅ Optimized model retrained and saved!\n"
     ]
    }
   ],
   "source": [
    "from sklearn.ensemble import RandomForestClassifier\n",
    "import pickle\n",
    "\n",
    "# Train the model with best hyperparameters\n",
    "best_rf = RandomForestClassifier(max_depth=10, min_samples_split=5, n_estimators=100, random_state=42)\n",
    "best_rf.fit(X_train, y_train)\n",
    "\n",
    "# Save the optimized model\n",
    "with open(\"best_model.pkl\", \"wb\") as file:\n",
    "    pickle.dump(best_rf, file)\n",
    "\n",
    "print(\"✅ Optimized model retrained and saved!\")\n"
   ]
  },
  {
   "cell_type": "code",
   "execution_count": 14,
   "id": "658b5bf6-a78e-431e-852a-b75d2309b99f",
   "metadata": {},
   "outputs": [
    {
     "name": "stdout",
     "output_type": "stream",
     "text": [
      "📌 New Model Accuracy: 0.8558823529411764\n",
      "\n",
      "📌 Classification Report:\n",
      "               precision    recall  f1-score   support\n",
      "\n",
      "           0       0.86      0.99      0.92       288\n",
      "           1       0.67      0.26      0.38        23\n",
      "           2       0.00      0.00      0.00         1\n",
      "           3       0.00      0.00      0.00        11\n",
      "           4       0.00      0.00      0.00         8\n",
      "           5       0.00      0.00      0.00         2\n",
      "           6       0.00      0.00      0.00         3\n",
      "           7       0.00      0.00      0.00         4\n",
      "\n",
      "    accuracy                           0.86       340\n",
      "   macro avg       0.19      0.16      0.16       340\n",
      "weighted avg       0.77      0.86      0.81       340\n",
      "\n"
     ]
    },
    {
     "name": "stderr",
     "output_type": "stream",
     "text": [
      "C:\\Users\\Alfin\\anaconda3\\Lib\\site-packages\\sklearn\\metrics\\_classification.py:1531: UndefinedMetricWarning: Precision is ill-defined and being set to 0.0 in labels with no predicted samples. Use `zero_division` parameter to control this behavior.\n",
      "  _warn_prf(average, modifier, f\"{metric.capitalize()} is\", len(result))\n",
      "C:\\Users\\Alfin\\anaconda3\\Lib\\site-packages\\sklearn\\metrics\\_classification.py:1531: UndefinedMetricWarning: Precision is ill-defined and being set to 0.0 in labels with no predicted samples. Use `zero_division` parameter to control this behavior.\n",
      "  _warn_prf(average, modifier, f\"{metric.capitalize()} is\", len(result))\n",
      "C:\\Users\\Alfin\\anaconda3\\Lib\\site-packages\\sklearn\\metrics\\_classification.py:1531: UndefinedMetricWarning: Precision is ill-defined and being set to 0.0 in labels with no predicted samples. Use `zero_division` parameter to control this behavior.\n",
      "  _warn_prf(average, modifier, f\"{metric.capitalize()} is\", len(result))\n"
     ]
    }
   ],
   "source": [
    "from sklearn.metrics import classification_report, accuracy_score\n",
    "\n",
    "# Make predictions\n",
    "y_pred = best_rf.predict(X_test)\n",
    "\n",
    "# Evaluate model performance\n",
    "print(\"📌 New Model Accuracy:\", accuracy_score(y_test, y_pred))\n",
    "print(\"\\n📌 Classification Report:\\n\", classification_report(y_test, y_pred))\n"
   ]
  },
  {
   "cell_type": "code",
   "execution_count": 15,
   "id": "e1d1665b-49cd-4908-8b57-6c31b55e3897",
   "metadata": {},
   "outputs": [
    {
     "name": "stdout",
     "output_type": "stream",
     "text": [
      "✅ Optimized model saved as best_model.pkl\n"
     ]
    }
   ],
   "source": [
    "import pickle\n",
    "\n",
    "# Save the newly optimized model\n",
    "with open(\"best_model.pkl\", \"wb\") as file:\n",
    "    pickle.dump(best_rf, file)\n",
    "\n",
    "print(\"✅ Optimized model saved as best_model.pkl\")\n"
   ]
  },
  {
   "cell_type": "code",
   "execution_count": 16,
   "id": "4843cb69-1cf0-40c7-bdb0-0c38b5a79a4c",
   "metadata": {},
   "outputs": [
    {
     "name": "stdout",
     "output_type": "stream",
     "text": [
      "Class Distribution: {0: 1141, 1: 87, 2: 17, 3: 43, 4: 15, 5: 10, 6: 24, 7: 23}\n"
     ]
    }
   ],
   "source": [
    "import numpy as np\n",
    "\n",
    "unique, counts = np.unique(y_train, return_counts=True)\n",
    "print(\"Class Distribution:\", dict(zip(unique, counts)))\n"
   ]
  },
  {
   "cell_type": "code",
   "execution_count": 17,
   "id": "6fed92c8-4cf9-4f66-a48e-d7f68482be78",
   "metadata": {},
   "outputs": [
    {
     "name": "stdout",
     "output_type": "stream",
     "text": [
      "✅ New Class Distribution: {0: 1141, 1: 1141, 2: 1141, 3: 1141, 4: 1141, 5: 1141, 6: 1141, 7: 1141}\n"
     ]
    }
   ],
   "source": [
    "from imblearn.over_sampling import SMOTE\n",
    "import numpy as np\n",
    "\n",
    "# Apply SMOTE with balanced sampling\n",
    "smote = SMOTE(sampling_strategy=\"auto\", random_state=42)  \n",
    "X_train_balanced, y_train_balanced = smote.fit_resample(X_train, y_train)\n",
    "\n",
    "# Check new class distribution\n",
    "unique, counts = np.unique(y_train_balanced, return_counts=True)\n",
    "print(\"✅ New Class Distribution:\", dict(zip(unique, counts)))\n"
   ]
  },
  {
   "cell_type": "code",
   "execution_count": 18,
   "id": "a83a67da-1093-41c7-8a6e-16f5798e0b35",
   "metadata": {},
   "outputs": [
    {
     "name": "stdout",
     "output_type": "stream",
     "text": [
      "✅ Retrained ML Model with Balanced Data!\n"
     ]
    }
   ],
   "source": [
    "from sklearn.ensemble import RandomForestClassifier\n",
    "import pickle\n",
    "\n",
    "# Train ML model with balanced data\n",
    "best_rf = RandomForestClassifier(n_estimators=100, random_state=42)\n",
    "best_rf.fit(X_train_balanced, y_train_balanced)\n",
    "\n",
    "# Save the new model\n",
    "with open(\"best_model.pkl\", \"wb\") as file:\n",
    "    pickle.dump(best_rf, file)\n",
    "\n",
    "\n",
    "print(\"✅ Retrained ML Model with Balanced Data!\")\n"
   ]
  },
  {
   "cell_type": "code",
   "execution_count": 24,
   "id": "93608e56-f77a-4b2b-a8ff-172015437aad",
   "metadata": {},
   "outputs": [
    {
     "name": "stdout",
     "output_type": "stream",
     "text": [
      "✅ New Class Distribution: {0: 1141, 1: 1141, 2: 1141, 3: 1141, 4: 1141, 5: 1141, 6: 1141, 7: 1141}\n"
     ]
    }
   ],
   "source": [
    "from imblearn.over_sampling import SMOTE\n",
    "import numpy as np\n",
    "\n",
    "# Apply SMOTE\n",
    "smote = SMOTE(sampling_strategy=\"auto\", random_state=42)\n",
    "X_train_balanced, y_train_balanced = smote.fit_resample(X_train, y_train)\n",
    "\n",
    "# Check new class distribution\n",
    "unique, counts = np.unique(y_train_balanced, return_counts=True)\n",
    "print(\"✅ New Class Distribution:\", dict(zip(unique, counts)))\n"
   ]
  },
  {
   "cell_type": "code",
   "execution_count": 19,
   "id": "b0aaaf0b-d829-482a-afc6-23e43638485c",
   "metadata": {},
   "outputs": [
    {
     "name": "stdout",
     "output_type": "stream",
     "text": [
      "Feature Importances:\n",
      " AGE           0.347461\n",
      "GB            0.166597\n",
      "INF_ANAM      0.162080\n",
      "S_AD_KBRIG    0.122117\n",
      "D_AD_KBRIG    0.105873\n",
      "ZSN           0.072703\n",
      "SIM_GIPERT    0.021935\n",
      "IBS_NASL      0.001235\n",
      "dtype: float64\n"
     ]
    }
   ],
   "source": [
    "import pandas as pd\n",
    "\n",
    "# Print Feature Importances\n",
    "feature_importances = pd.Series(best_rf.feature_importances_, index=X.columns).sort_values(ascending=False)\n",
    "print(\"Feature Importances:\\n\", feature_importances)\n"
   ]
  },
  {
   "cell_type": "code",
   "execution_count": 20,
   "id": "be6954e2-4913-4da8-9e96-6d3e7b09675f",
   "metadata": {},
   "outputs": [
    {
     "name": "stdout",
     "output_type": "stream",
     "text": [
      "✅ ML Model retrained with better features!\n"
     ]
    }
   ],
   "source": [
    "important_features = [\"AGE\", \"S_AD_KBRIG\", \"D_AD_KBRIG\", \"GB\", \"IBS_NASL\", \"SIM_GIPERT\", \"INF_ANAM\", \"ZSN\"]\n",
    "X_train_filtered = X_train_balanced[important_features]\n",
    "X_test_filtered = X_test[important_features]\n",
    "\n",
    "# Train ML Model Again\n",
    "best_rf = RandomForestClassifier(n_estimators=200, max_depth=10, random_state=42)\n",
    "best_rf.fit(X_train_filtered, y_train_balanced)\n",
    "\n",
    "# Save the updated model\n",
    "with open(\"best_model.pkl\", \"wb\") as file:\n",
    "    pickle.dump(best_rf, file)\n",
    "\n",
    "print(\"✅ ML Model retrained with better features!\")\n"
   ]
  },
  {
   "cell_type": "code",
   "execution_count": 21,
   "id": "54dde1ba-635a-4ff2-af81-ecb06a949206",
   "metadata": {},
   "outputs": [
    {
     "name": "stdout",
     "output_type": "stream",
     "text": [
      "✅ Best Model Found! Retrained with Optimal Hyperparameters.\n"
     ]
    }
   ],
   "source": [
    "from sklearn.model_selection import RandomizedSearchCV\n",
    "from sklearn.ensemble import RandomForestClassifier\n",
    "import pickle\n",
    "\n",
    "param_dist = {\n",
    "    'n_estimators': [100, 200, 300, 500],  # Test fewer values\n",
    "    'max_depth': [5, 10, 20, 30],\n",
    "    'min_samples_split': [2, 5, 10]\n",
    "}\n",
    "\n",
    "random_search = RandomizedSearchCV(RandomForestClassifier(random_state=42), param_dist, \n",
    "                                   n_iter=10, cv=3, scoring='accuracy', n_jobs=-1, random_state=42)\n",
    "random_search.fit(X_train_balanced, y_train_balanced)\n",
    "\n",
    "# Train best model\n",
    "best_rf = random_search.best_estimator_\n",
    "best_rf.fit(X_train_balanced, y_train_balanced)\n",
    "\n",
    "# Save best model\n",
    "with open(\"best_model.pkl\", \"wb\") as file:\n",
    "    pickle.dump(best_rf, file)\n",
    "\n",
    "print(\"✅ Best Model Found! Retrained with Optimal Hyperparameters.\")\n",
    "\n"
   ]
  },
  {
   "cell_type": "code",
   "execution_count": 22,
   "id": "4c949f94-f9fe-4e26-a4d3-f397c6107597",
   "metadata": {},
   "outputs": [],
   "source": [
    "import pickle\n",
    "from sklearn.preprocessing import StandardScaler\n",
    "\n",
    "# 📌 Load the trained scaler\n",
    "with open(\"scaler.pkl\", \"rb\") as file:\n",
    "    scaler = pickle.load(file)\n",
    "\n",
    "# 📌 Scale the test dataset\n",
    "X_test_scaled = scaler.transform(X_test)\n"
   ]
  },
  {
   "cell_type": "code",
   "execution_count": 31,
   "id": "83d137c0-3029-444b-871a-2a9d1d68fd9e",
   "metadata": {},
   "outputs": [
    {
     "data": {
      "image/png": "[encoded data removed]",
      "text/plain": [
       "<Figure size 600x500 with 2 Axes>"
      ]
     },
     "metadata": {},
     "output_type": "display_data"
    },
    {
     "name": "stdout",
     "output_type": "stream",
     "text": [
      "📌 Classification Report:\n",
      "              precision    recall  f1-score   support\n",
      "\n",
      "           0       0.89      0.80      0.84       288\n",
      "           1       0.33      0.43      0.38        23\n",
      "           2       0.00      0.00      0.00         1\n",
      "           3       0.11      0.18      0.14        11\n",
      "           4       0.12      0.12      0.12         8\n",
      "           5       0.00      0.00      0.00         2\n",
      "           6       0.00      0.00      0.00         3\n",
      "           7       0.12      0.25      0.17         4\n",
      "\n",
      "    accuracy                           0.72       340\n",
      "   macro avg       0.20      0.22      0.21       340\n",
      "weighted avg       0.79      0.72      0.75       340\n",
      "\n"
     ]
    }
   ],
   "source": [
    "import matplotlib.pyplot as plt\n",
    "import seaborn as sns\n",
    "from sklearn.metrics import confusion_matrix, classification_report\n",
    "\n",
    "# 📌 Step 1: Predict on Test Data\n",
    "y_pred = best_rf.predict(X_test_scaled)  # Ensure X_test is scaled properly\n",
    "\n",
    "# 📌 Step 2: Compute Confusion Matrix\n",
    "cm = confusion_matrix(y_test, y_pred)\n",
    "\n",
    "# 📌 Step 3: Plot the Confusion Matrix\n",
    "plt.figure(figsize=(6, 5))\n",
    "sns.heatmap(cm, annot=True, fmt=\"d\", cmap=\"Blues\", xticklabels=[\"No Risk\", \"High Risk\"], yticklabels=[\"No Risk\", \"High Risk\"])\n",
    "plt.xlabel(\"Predicted Label\")\n",
    "plt.ylabel(\"True Label\")\n",
    "plt.title(\"Confusion Matrix for Machine Learning Model\")\n",
    "plt.show()\n",
    "\n",
    "# 📌 Step 4: Print Classification Report\n",
    "print(\"📌 Classification Report:\")\n",
    "print(classification_report(y_test, y_pred))\n"
   ]
  },
  {
   "cell_type": "code",
   "execution_count": 24,
   "id": "59db1606-e751-4002-9ea6-1743151861b6",
   "metadata": {},
   "outputs": [
    {
     "name": "stdout",
     "output_type": "stream",
     "text": [
      "Class Distribution in Training Data: {0: 1141, 1: 87, 2: 17, 3: 43, 4: 15, 5: 10, 6: 24, 7: 23}\n"
     ]
    }
   ],
   "source": [
    "import numpy as np\n",
    "\n",
    "# 📌 Check class distribution\n",
    "unique, counts = np.unique(y_train, return_counts=True)\n",
    "class_distribution = dict(zip(unique, counts))\n",
    "print(\"Class Distribution in Training Data:\", class_distribution)\n"
   ]
  },
  {
   "cell_type": "code",
   "execution_count": 25,
   "id": "8e498b49-6c85-4424-b042-c0128ef8f0bf",
   "metadata": {},
   "outputs": [],
   "source": [
    "from sklearn.preprocessing import StandardScaler\n",
    "\n",
    "# 📌 Initialize StandardScaler\n",
    "scaler = StandardScaler()\n",
    "\n",
    "# 📌 Fit and transform X_train\n",
    "X_train_scaled = scaler.fit_transform(X_train)\n",
    "X_test_scaled = scaler.transform(X_test)  # Scale test data as well\n"
   ]
  },
  {
   "cell_type": "code",
   "execution_count": 26,
   "id": "74ee16b5-f32e-49be-8996-e07fa03cef08",
   "metadata": {},
   "outputs": [
    {
     "name": "stdout",
     "output_type": "stream",
     "text": [
      "New Class Distribution After SMOTE: {0: 1141, 1: 1141, 2: 1141, 3: 1141, 4: 1141, 5: 1141, 6: 1141, 7: 1141}\n"
     ]
    }
   ],
   "source": [
    "from imblearn.over_sampling import SMOTE\n",
    "import numpy as np\n",
    "\n",
    "# 📌 Apply SMOTE\n",
    "smote = SMOTE(sampling_strategy=\"auto\", random_state=42)\n",
    "X_train_balanced, y_train_balanced = smote.fit_resample(X_train_scaled, y_train)\n",
    "\n",
    "# 📌 Check the new class distribution\n",
    "unique, counts = np.unique(y_train_balanced, return_counts=True)\n",
    "print(\"New Class Distribution After SMOTE:\", dict(zip(unique, counts)))\n"
   ]
  },
  {
   "cell_type": "code",
   "execution_count": 27,
   "id": "a7c5e108-2e85-477f-a73e-597c8fd77565",
   "metadata": {},
   "outputs": [
    {
     "name": "stdout",
     "output_type": "stream",
     "text": [
      "📌 Model Accuracy After SMOTE: 0.5441176470588235\n"
     ]
    }
   ],
   "source": [
    "from sklearn.ensemble import RandomForestClassifier\n",
    "\n",
    "# 📌 Train Model on Balanced Data\n",
    "best_rf = RandomForestClassifier(n_estimators=100, max_depth=10, min_samples_split=5, random_state=42)\n",
    "best_rf.fit(X_train_balanced, y_train_balanced)\n",
    "\n",
    "# 📌 Predict on Test Data\n",
    "y_pred = best_rf.predict(X_test_scaled)\n",
    "\n",
    "# 📌 Compute Accuracy\n",
    "from sklearn.metrics import accuracy_score\n",
    "accuracy = accuracy_score(y_test, y_pred)\n",
    "print(\"📌 Model Accuracy After SMOTE:\", accuracy)\n"
   ]
  },
  {
   "cell_type": "code",
   "execution_count": 28,
   "id": "bf5f953e-e504-4497-9f11-a25009477b58",
   "metadata": {},
   "outputs": [
    {
     "name": "stdout",
     "output_type": "stream",
     "text": [
      "New Class Distribution After SMOTE: {0: 1141, 1: 1141, 2: 1141, 3: 1141, 4: 1141, 5: 1141, 6: 1141, 7: 1141}\n"
     ]
    }
   ],
   "source": [
    "import numpy as np\n",
    "\n",
    "# 📌 Check the new class distribution\n",
    "unique, counts = np.unique(y_train_balanced, return_counts=True)\n",
    "print(\"New Class Distribution After SMOTE:\", dict(zip(unique, counts)))\n"
   ]
  },
  {
   "cell_type": "code",
   "execution_count": 29,
   "id": "fa931cd8-b6df-4e76-85df-e0385ed9f9fb",
   "metadata": {},
   "outputs": [
    {
     "name": "stdout",
     "output_type": "stream",
     "text": [
      "Selected Features: Index(['AGE', 'S_AD_KBRIG', 'D_AD_KBRIG', 'GB', 'IBS_NASL', 'SIM_GIPERT',\n",
      "       'INF_ANAM', 'ZSN'],\n",
      "      dtype='object')\n"
     ]
    },
    {
     "name": "stderr",
     "output_type": "stream",
     "text": [
      "C:\\Users\\Alfin\\anaconda3\\Lib\\site-packages\\sklearn\\feature_selection\\_univariate_selection.py:776: UserWarning: k=20 is greater than n_features=8. All the features will be returned.\n",
      "  warnings.warn(\n"
     ]
    }
   ],
   "source": [
    "from sklearn.feature_selection import SelectKBest, f_classif\n",
    "\n",
    "# 📌 Apply Feature Selection\n",
    "selector = SelectKBest(score_func=f_classif, k=20)  # Selects top 20 features\n",
    "X_train_balanced_selected = selector.fit_transform(X_train_balanced, y_train_balanced)\n",
    "X_test_selected = selector.transform(X_test_scaled)  # Apply to test set\n",
    "\n",
    "# Get selected feature names\n",
    "selected_features = X_train.columns[selector.get_support()]\n",
    "print(\"Selected Features:\", selected_features)\n"
   ]
  },
  {
   "cell_type": "code",
   "execution_count": 30,
   "id": "1e658dea-03f8-4331-9005-fa7df06ed49e",
   "metadata": {},
   "outputs": [
    {
     "name": "stdout",
     "output_type": "stream",
     "text": [
      "✅ Best Model Found! Retrained with Optimal Hyperparameters.\n"
     ]
    }
   ],
   "source": [
    "from sklearn.model_selection import GridSearchCV\n",
    "from sklearn.ensemble import RandomForestClassifier\n",
    "\n",
    "# 📌 Define Hyperparameters\n",
    "param_grid = {\n",
    "    'n_estimators': [100, 200, 300],\n",
    "    'max_depth': [5, 10, 20],\n",
    "    'min_samples_split': [2, 5, 10]\n",
    "}\n",
    "\n",
    "# 📌 Grid Search\n",
    "grid_search = GridSearchCV(RandomForestClassifier(random_state=42), param_grid, cv=5, scoring='accuracy')\n",
    "grid_search.fit(X_train_balanced_selected, y_train_balanced)\n",
    "\n",
    "# Train Best Model\n",
    "best_rf = grid_search.best_estimator_\n",
    "best_rf.fit(X_train_balanced_selected, y_train_balanced)\n",
    "\n",
    "# 📌 Save Best Model\n",
    "import pickle\n",
    "with open(\"best_model.pkl\", \"wb\") as file:\n",
    "    pickle.dump(best_rf, file)\n",
    "\n",
    "print(\"✅ Best Model Found! Retrained with Optimal Hyperparameters.\")\n"
   ]
  },
  {
   "cell_type": "code",
   "execution_count": 32,
   "id": "6327e290-56f5-4670-b7c1-2e56659167bd",
   "metadata": {},
   "outputs": [
    {
     "name": "stdout",
     "output_type": "stream",
     "text": [
      "📌 Model Accuracy After Feature Selection & Tuning: 0.7176470588235294\n",
      "              precision    recall  f1-score   support\n",
      "\n",
      "           0       0.89      0.80      0.84       288\n",
      "           1       0.33      0.43      0.38        23\n",
      "           2       0.00      0.00      0.00         1\n",
      "           3       0.11      0.18      0.14        11\n",
      "           4       0.12      0.12      0.12         8\n",
      "           5       0.00      0.00      0.00         2\n",
      "           6       0.00      0.00      0.00         3\n",
      "           7       0.12      0.25      0.17         4\n",
      "\n",
      "    accuracy                           0.72       340\n",
      "   macro avg       0.20      0.22      0.21       340\n",
      "weighted avg       0.79      0.72      0.75       340\n",
      "\n"
     ]
    }
   ],
   "source": [
    "from sklearn.metrics import accuracy_score, classification_report\n",
    "\n",
    "# 📌 Predict on Test Data\n",
    "y_pred = best_rf.predict(X_test_selected)\n",
    "\n",
    "# 📌 Compute Accuracy\n",
    "accuracy = accuracy_score(y_test, y_pred)\n",
    "print(\"📌 Model Accuracy After Feature Selection & Tuning:\", accuracy)\n",
    "\n",
    "# 📌 Display Classification Report\n",
    "print(classification_report(y_test, y_pred))\n"
   ]
  },
  {
   "cell_type": "code",
   "execution_count": 33,
   "id": "497b9de0-2e34-4c1f-929b-caef49104ab6",
   "metadata": {},
   "outputs": [
    {
     "name": "stdout",
     "output_type": "stream",
     "text": [
      "New Class Distribution After SMOTE-Tomek: {0: 1112, 1: 1061, 2: 1107, 3: 1063, 4: 1118, 5: 1137, 6: 1088, 7: 1124}\n"
     ]
    }
   ],
   "source": [
    "from imblearn.combine import SMOTETomek\n",
    "\n",
    "# 📌 Apply SMOTE-Tomek for better resampling\n",
    "smote_tomek = SMOTETomek(random_state=42)\n",
    "X_train_resampled, y_train_resampled = smote_tomek.fit_resample(X_train_scaled, y_train)\n",
    "\n",
    "# 📌 Check the new class distribution\n",
    "unique, counts = np.unique(y_train_resampled, return_counts=True)\n",
    "print(\"New Class Distribution After SMOTE-Tomek:\", dict(zip(unique, counts)))\n"
   ]
  },
  {
   "cell_type": "code",
   "execution_count": 34,
   "id": "f1ef06ea-54d0-4d32-add9-91f2d35b6010",
   "metadata": {},
   "outputs": [
    {
     "name": "stderr",
     "output_type": "stream",
     "text": [
      "C:\\Users\\Alfin\\anaconda3\\Lib\\site-packages\\sklearn\\feature_selection\\_rfe.py:291: UserWarning: Found n_features_to_select=20 > n_features=8. There will be no feature selection and all features will be kept.\n",
      "  warnings.warn(\n"
     ]
    },
    {
     "name": "stdout",
     "output_type": "stream",
     "text": [
      "Selected Features: Index(['AGE', 'S_AD_KBRIG', 'D_AD_KBRIG', 'GB', 'IBS_NASL', 'SIM_GIPERT',\n",
      "       'INF_ANAM', 'ZSN'],\n",
      "      dtype='object')\n"
     ]
    }
   ],
   "source": [
    "from sklearn.feature_selection import RFE\n",
    "from sklearn.ensemble import RandomForestClassifier\n",
    "\n",
    "# 📌 Initialize RFE with Random Forest\n",
    "rf = RandomForestClassifier(n_estimators=100, random_state=42)\n",
    "rfe = RFE(estimator=rf, n_features_to_select=20)\n",
    "\n",
    "# 📌 Fit RFE on balanced dataset\n",
    "X_train_selected = rfe.fit_transform(X_train_resampled, y_train_resampled)\n",
    "X_test_selected = rfe.transform(X_test_scaled)  # Apply to test set\n",
    "\n",
    "# Get selected feature names\n",
    "selected_features = X_train.columns[rfe.support_]\n",
    "print(\"Selected Features:\", selected_features)\n"
   ]
  },
  {
   "cell_type": "code",
   "execution_count": 35,
   "id": "5e18bf30-18e6-48a6-bde9-fc5a0864b1a3",
   "metadata": {},
   "outputs": [
    {
     "name": "stdout",
     "output_type": "stream",
     "text": [
      "✅ Best Model Found! Retrained with Optimal Hyperparameters.\n"
     ]
    }
   ],
   "source": [
    "from sklearn.model_selection import RandomizedSearchCV\n",
    "\n",
    "# 📌 Define More Hyperparameters\n",
    "param_dist = {\n",
    "    'n_estimators': [100, 200, 300, 500],\n",
    "    'max_depth': [5, 10, 20, 30],\n",
    "    'min_samples_split': [2, 5, 10, 15],\n",
    "    'min_samples_leaf': [1, 2, 5, 10],\n",
    "    'bootstrap': [True, False]\n",
    "}\n",
    "\n",
    "# 📌 Use RandomizedSearchCV for faster tuning\n",
    "random_search = RandomizedSearchCV(\n",
    "    RandomForestClassifier(random_state=42),\n",
    "    param_distributions=param_dist,\n",
    "    n_iter=50,  # Try 50 combinations\n",
    "    cv=5,\n",
    "    scoring='accuracy',\n",
    "    n_jobs=-1\n",
    ")\n",
    "\n",
    "random_search.fit(X_train_selected, y_train_resampled)\n",
    "\n",
    "# 📌 Train Best Model\n",
    "best_rf = random_search.best_estimator_\n",
    "best_rf.fit(X_train_selected, y_train_resampled)\n",
    "\n",
    "# 📌 Save Best Model\n",
    "import pickle\n",
    "with open(\"best_model.pkl\", \"wb\") as file:\n",
    "    pickle.dump(best_rf, file)\n",
    "\n",
    "print(\"✅ Best Model Found! Retrained with Optimal Hyperparameters.\")\n"
   ]
  },
  {
   "cell_type": "code",
   "execution_count": 36,
   "id": "2f367fdf-38f3-4a67-97cd-029cf7c37206",
   "metadata": {},
   "outputs": [
    {
     "name": "stdout",
     "output_type": "stream",
     "text": [
      "📌 Model Accuracy After Advanced Feature Selection & Tuning: 0.6764705882352942\n",
      "              precision    recall  f1-score   support\n",
      "\n",
      "           0       0.89      0.75      0.82       288\n",
      "           1       0.26      0.39      0.32        23\n",
      "           2       0.00      0.00      0.00         1\n",
      "           3       0.12      0.18      0.15        11\n",
      "           4       0.12      0.12      0.12         8\n",
      "           5       0.00      0.00      0.00         2\n",
      "           6       0.00      0.00      0.00         3\n",
      "           7       0.05      0.25      0.09         4\n",
      "\n",
      "    accuracy                           0.68       340\n",
      "   macro avg       0.18      0.21      0.19       340\n",
      "weighted avg       0.78      0.68      0.72       340\n",
      "\n"
     ]
    }
   ],
   "source": [
    "from sklearn.metrics import accuracy_score, classification_report\n",
    "\n",
    "# 📌 Predict on Test Data\n",
    "y_pred = best_rf.predict(X_test_selected)\n",
    "\n",
    "# 📌 Compute Accuracy\n",
    "accuracy = accuracy_score(y_test, y_pred)\n",
    "print(\"📌 Model Accuracy After Advanced Feature Selection & Tuning:\", accuracy)\n",
    "\n",
    "# 📌 Display Classification Report\n",
    "print(classification_report(y_test, y_pred))\n"
   ]
  },
  {
   "cell_type": "code",
   "execution_count": 37,
   "id": "61b0aff7-cea3-4bac-b3bd-5655e71c6d41",
   "metadata": {},
   "outputs": [
    {
     "name": "stdout",
     "output_type": "stream",
     "text": [
      "Selected Features: Index(['AGE', 'S_AD_KBRIG', 'D_AD_KBRIG', 'GB', 'IBS_NASL', 'SIM_GIPERT',\n",
      "       'INF_ANAM', 'ZSN'],\n",
      "      dtype='object')\n"
     ]
    },
    {
     "name": "stderr",
     "output_type": "stream",
     "text": [
      "C:\\Users\\Alfin\\anaconda3\\Lib\\site-packages\\sklearn\\feature_selection\\_univariate_selection.py:776: UserWarning: k=20 is greater than n_features=8. All the features will be returned.\n",
      "  warnings.warn(\n"
     ]
    }
   ],
   "source": [
    "from sklearn.feature_selection import SelectKBest, f_classif\n",
    "\n",
    "# 📌 Apply SelectKBest to find top 20 features\n",
    "selector = SelectKBest(score_func=f_classif, k=20)\n",
    "X_train_selected = selector.fit_transform(X_train_scaled, y_train)\n",
    "X_test_selected = selector.transform(X_test_scaled)\n",
    "\n",
    "# Get selected feature names\n",
    "selected_features = X_train.columns[selector.get_support()]\n",
    "print(\"Selected Features:\", selected_features)\n"
   ]
  },
  {
   "cell_type": "code",
   "execution_count": 38,
   "id": "cb6dcdd6-d83d-4f23-9ccf-bb7a32ab1228",
   "metadata": {},
   "outputs": [
    {
     "name": "stdout",
     "output_type": "stream",
     "text": [
      "New Class Distribution: {0: 1141, 1: 1141, 2: 1141, 3: 1141, 4: 1141, 5: 1141, 6: 1141, 7: 1141}\n"
     ]
    }
   ],
   "source": [
    "from imblearn.over_sampling import SMOTE\n",
    "\n",
    "# 📌 Apply SMOTE only (remove Tomek)\n",
    "smote = SMOTE(sampling_strategy=\"auto\", random_state=42)\n",
    "X_train_resampled, y_train_resampled = smote.fit_resample(X_train_selected, y_train)\n",
    "\n",
    "# 📌 Check new class distribution\n",
    "unique, counts = np.unique(y_train_resampled, return_counts=True)\n",
    "print(\"New Class Distribution:\", dict(zip(unique, counts)))\n"
   ]
  },
  {
   "cell_type": "code",
   "execution_count": 39,
   "id": "72cf5eb6-1c44-463e-9a09-c77377af9005",
   "metadata": {},
   "outputs": [
    {
     "name": "stdout",
     "output_type": "stream",
     "text": [
      "✅ Model Retrained with New Hyperparameters.\n"
     ]
    }
   ],
   "source": [
    "from sklearn.model_selection import GridSearchCV\n",
    "\n",
    "# 📌 Define a smaller hyperparameter range\n",
    "param_grid = {\n",
    "    'n_estimators': [100, 200],\n",
    "    'max_depth': [5, 10],\n",
    "    'min_samples_split': [2, 5],\n",
    "    'min_samples_leaf': [1, 2]\n",
    "}\n",
    "\n",
    "# 📌 Use GridSearchCV instead\n",
    "grid_search = GridSearchCV(RandomForestClassifier(random_state=42), param_grid, cv=5, scoring='accuracy')\n",
    "grid_search.fit(X_train_resampled, y_train_resampled)\n",
    "\n",
    "# 📌 Train Best Model\n",
    "best_rf = grid_search.best_estimator_\n",
    "best_rf.fit(X_train_resampled, y_train_resampled)\n",
    "\n",
    "# 📌 Save Best Model\n",
    "import pickle\n",
    "with open(\"best_model.pkl\", \"wb\") as file:\n",
    "    pickle.dump(best_rf, file)\n",
    "\n",
    "print(\"✅ Model Retrained with New Hyperparameters.\")\n"
   ]
  },
  {
   "cell_type": "code",
   "execution_count": 40,
   "id": "2f1fe7e7-3d3b-4799-a513-63fd8c1e7e93",
   "metadata": {},
   "outputs": [
    {
     "name": "stdout",
     "output_type": "stream",
     "text": [
      "📌 Final Model Accuracy: 0.5088235294117647\n",
      "              precision    recall  f1-score   support\n",
      "\n",
      "           0       0.91      0.52      0.67       288\n",
      "           1       0.36      0.57      0.44        23\n",
      "           2       0.00      0.00      0.00         1\n",
      "           3       0.17      0.45      0.24        11\n",
      "           4       0.11      0.25      0.15         8\n",
      "           5       0.00      0.00      0.00         2\n",
      "           6       0.00      0.00      0.00         3\n",
      "           7       0.03      0.50      0.06         4\n",
      "\n",
      "    accuracy                           0.51       340\n",
      "   macro avg       0.20      0.29      0.20       340\n",
      "weighted avg       0.80      0.51      0.61       340\n",
      "\n"
     ]
    }
   ],
   "source": [
    "from sklearn.metrics import accuracy_score, classification_report\n",
    "\n",
    "# 📌 Predict on Test Data\n",
    "y_pred = best_rf.predict(X_test_selected)\n",
    "\n",
    "# 📌 Compute Accuracy\n",
    "accuracy = accuracy_score(y_test, y_pred)\n",
    "print(\"📌 Final Model Accuracy:\", accuracy)\n",
    "\n",
    "# 📌 Display Classification Report\n",
    "print(classification_report(y_test, y_pred))\n"
   ]
  },
  {
   "cell_type": "code",
   "execution_count": 41,
   "id": "05b48893-09dd-4a68-8d48-9813cd9f5c61",
   "metadata": {},
   "outputs": [
    {
     "name": "stderr",
     "output_type": "stream",
     "text": [
      "C:\\Users\\Alfin\\anaconda3\\Lib\\site-packages\\sklearn\\feature_selection\\_rfe.py:291: UserWarning: Found n_features_to_select=20 > n_features=8. There will be no feature selection and all features will be kept.\n",
      "  warnings.warn(\n"
     ]
    },
    {
     "name": "stdout",
     "output_type": "stream",
     "text": [
      "📌 Selected Features: Index(['AGE', 'S_AD_KBRIG', 'D_AD_KBRIG', 'GB', 'IBS_NASL', 'SIM_GIPERT',\n",
      "       'INF_ANAM', 'ZSN'],\n",
      "      dtype='object')\n"
     ]
    }
   ],
   "source": [
    "from sklearn.feature_selection import RFE\n",
    "from sklearn.ensemble import RandomForestClassifier\n",
    "\n",
    "# 📌 Reinitialize Base Model for RFE\n",
    "base_model = RandomForestClassifier(n_estimators=100, random_state=42)\n",
    "\n",
    "# 📌 Apply RFE to find the best 20 features\n",
    "selector = RFE(base_model, n_features_to_select=20)\n",
    "X_train_selected = selector.fit_transform(X_train_scaled, y_train)\n",
    "X_test_selected = selector.transform(X_test_scaled)\n",
    "\n",
    "# Get selected feature names\n",
    "selected_features = X_train.columns[selector.support_]\n",
    "print(\"📌 Selected Features:\", selected_features)\n"
   ]
  },
  {
   "cell_type": "code",
   "execution_count": 42,
   "id": "1f01df35-ec32-458b-8888-5258e58db310",
   "metadata": {},
   "outputs": [],
   "source": [
    "from sklearn.preprocessing import StandardScaler\n",
    "\n",
    "# 📌 Initialize StandardScaler\n",
    "scaler = StandardScaler()\n",
    "X_train_scaled = scaler.fit_transform(X_train)\n",
    "X_test_scaled = scaler.transform(X_test)\n"
   ]
  },
  {
   "cell_type": "code",
   "execution_count": 43,
   "id": "7b6dec8c-bf2c-4aeb-b24e-e13388c1ebc5",
   "metadata": {},
   "outputs": [
    {
     "name": "stdout",
     "output_type": "stream",
     "text": [
      "📌 New Class Distribution: {0: 1141, 1: 1141, 2: 1141, 3: 1141, 4: 1141, 5: 1141, 6: 1141, 7: 1141}\n"
     ]
    }
   ],
   "source": [
    "from imblearn.over_sampling import SMOTE\n",
    "import numpy as np\n",
    "\n",
    "# 📌 Apply SMOTE AFTER scaling\n",
    "smote = SMOTE(sampling_strategy=\"auto\", random_state=42)\n",
    "X_train_balanced, y_train_balanced = smote.fit_resample(X_train_scaled, y_train)\n",
    "\n",
    "# 📌 Check new class distribution\n",
    "unique, counts = np.unique(y_train_balanced, return_counts=True)\n",
    "print(\"📌 New Class Distribution:\", dict(zip(unique, counts)))\n"
   ]
  },
  {
   "cell_type": "code",
   "execution_count": 44,
   "id": "058027de-6831-44f4-be17-c18761d7d58e",
   "metadata": {},
   "outputs": [
    {
     "name": "stdout",
     "output_type": "stream",
     "text": [
      "📌 Final Model Accuracy: 0.7558823529411764\n",
      "              precision    recall  f1-score   support\n",
      "\n",
      "           0       0.89      0.85      0.87       288\n",
      "           1       0.36      0.43      0.39        23\n",
      "           2       0.00      0.00      0.00         1\n",
      "           3       0.10      0.09      0.10        11\n",
      "           4       0.12      0.12      0.12         8\n",
      "           5       0.00      0.00      0.00         2\n",
      "           6       0.00      0.00      0.00         3\n",
      "           7       0.12      0.25      0.17         4\n",
      "\n",
      "    accuracy                           0.76       340\n",
      "   macro avg       0.20      0.22      0.21       340\n",
      "weighted avg       0.79      0.76      0.77       340\n",
      "\n"
     ]
    }
   ],
   "source": [
    "from sklearn.ensemble import RandomForestClassifier\n",
    "from sklearn.metrics import accuracy_score, classification_report\n",
    "\n",
    "# 📌 Train Model Again After SMOTE\n",
    "rf = RandomForestClassifier(n_estimators=100, random_state=42)\n",
    "rf.fit(X_train_balanced, y_train_balanced)\n",
    "\n",
    "# 📌 Predict on Test Data\n",
    "y_pred = rf.predict(X_test_scaled)\n",
    "\n",
    "# 📌 Compute Accuracy\n",
    "accuracy = accuracy_score(y_test, y_pred)\n",
    "print(\"📌 Final Model Accuracy:\", accuracy)\n",
    "\n",
    "# 📌 Classification Report\n",
    "print(classification_report(y_test, y_pred))\n"
   ]
  },
  {
   "cell_type": "code",
   "execution_count": 45,
   "id": "2059e113-f3bd-4919-8d80-c58227c683a4",
   "metadata": {},
   "outputs": [
    {
     "name": "stdout",
     "output_type": "stream",
     "text": [
      "📌 Tuned Model Accuracy: 0.7176470588235294\n"
     ]
    }
   ],
   "source": [
    "from sklearn.model_selection import GridSearchCV\n",
    "\n",
    "# 📌 Define Parameter Grid\n",
    "param_grid = {\n",
    "    'n_estimators': [100, 200, 300],  \n",
    "    'max_depth': [10, 20, None],  \n",
    "    'min_samples_split': [2, 5, 10],  \n",
    "    'min_samples_leaf': [1, 2, 4]\n",
    "}\n",
    "\n",
    "# 📌 Run GridSearchCV\n",
    "grid_search = GridSearchCV(RandomForestClassifier(random_state=42), param_grid, cv=5, scoring='accuracy')\n",
    "grid_search.fit(X_train_balanced, y_train_balanced)\n",
    "\n",
    "# 📌 Train Best Model\n",
    "best_rf = grid_search.best_estimator_\n",
    "best_rf.fit(X_train_balanced, y_train_balanced)\n",
    "\n",
    "# 📌 Predict & Evaluate\n",
    "y_pred = best_rf.predict(X_test_scaled)\n",
    "print(\"📌 Tuned Model Accuracy:\", accuracy_score(y_test, y_pred))\n"
   ]
  },
  {
   "cell_type": "code",
   "execution_count": 58,
   "id": "f44bb489-b56d-471a-a7ad-1a38b21e59c5",
   "metadata": {},
   "outputs": [
    {
     "name": "stdout",
     "output_type": "stream",
     "text": [
      "📌 XGBoost Model Accuracy: 0.7294117647058823\n"
     ]
    }
   ],
   "source": [
    "from xgboost import XGBClassifier\n",
    "\n",
    "# 📌 Train XGBoost Model\n",
    "xgb = XGBClassifier(n_estimators=200, max_depth=10, learning_rate=0.05, eval_metric=\"logloss\", random_state=42)\n",
    "xgb.fit(X_train_balanced, y_train_balanced)\n",
    "\n",
    "# 📌 Predict & Evaluate\n",
    "y_pred_xgb = xgb.predict(X_test_scaled)\n",
    "print(\"📌 XGBoost Model Accuracy:\", accuracy_score(y_test, y_pred_xgb))\n"
   ]
  },
  {
   "cell_type": "code",
   "execution_count": 46,
   "id": "425f217f-0907-44fa-b8e5-39b259d1968d",
   "metadata": {},
   "outputs": [
    {
     "data": {
      "image/png": "[encoded data removed]",
      "text/plain": [
       "<Figure size 1000x600 with 1 Axes>"
      ]
     },
     "metadata": {},
     "output_type": "display_data"
    }
   ],
   "source": [
    "import pandas as pd\n",
    "import matplotlib.pyplot as plt\n",
    "import seaborn as sns\n",
    "\n",
    "# 📌 Ensure X_train_balanced is a DataFrame before fitting the model\n",
    "selected_features = X_train_balanced.shape[1]  # Ensure correct number of features\n",
    "\n",
    "# 📌 Get Feature Importances from the Best Model\n",
    "feature_importances = pd.Series(best_rf.feature_importances_, index=X.columns[:selected_features]).sort_values(ascending=False)\n",
    "\n",
    "# 📌 Plot Top Features\n",
    "plt.figure(figsize=(10,6))\n",
    "sns.barplot(x=feature_importances[:20], y=feature_importances[:20].index)\n",
    "plt.title(\"Top 20 Features for Myocardial Infarction Prediction\")\n",
    "plt.xlabel(\"Feature Importance\")\n",
    "plt.ylabel(\"Features\")\n",
    "plt.show()\n",
    "\n"
   ]
  },
  {
   "cell_type": "code",
   "execution_count": null,
   "id": "c7594a8f-f463-4f6e-b191-25bb1194630e",
   "metadata": {},
   "outputs": [],
   "source": []
  }
 ],
 "metadata": {
  "kernelspec": {
   "display_name": "Python 3 (ipykernel)",
   "language": "python",
   "name": "python3"
  },
  "language_info": {
   "codemirror_mode": {
    "name": "ipython",
    "version": 3
   },
   "file_extension": ".py",
   "mimetype": "text/x-python",
   "name": "python",
   "nbconvert_exporter": "python",
   "pygments_lexer": "ipython3",
   "version": "3.12.3"
  }
 },
 "nbformat": 4,
 "nbformat_minor": 5
}
